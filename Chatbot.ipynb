{
  "nbformat": 4,
  "nbformat_minor": 0,
  "metadata": {
    "colab": {
      "name": "Chatbot.ipynb",
      "provenance": [],
      "include_colab_link": true
    },
    "kernelspec": {
      "name": "python3",
      "display_name": "Python 3"
    },
    "accelerator": "GPU"
  },
  "cells": [
    {
      "cell_type": "markdown",
      "metadata": {
        "id": "view-in-github",
        "colab_type": "text"
      },
      "source": [
        "<a href=\"https://colab.research.google.com/github/sadhna7/Chatbot/blob/master/Chatbot.ipynb\" target=\"_parent\"><img src=\"https://colab.research.google.com/assets/colab-badge.svg\" alt=\"Open In Colab\"/></a>"
      ]
    },
    {
      "cell_type": "code",
      "metadata": {
        "id": "Xr6-LZnJ7gvx",
        "colab_type": "code",
        "colab": {}
      },
      "source": [
        "# Unzip the json file\n",
        "from zipfile import ZipFile\n",
        "with ZipFile('/content/json-file.zip', 'r') as zip:\n",
        "  zip.extractall()"
      ],
      "execution_count": 0,
      "outputs": []
    },
    {
      "cell_type": "code",
      "metadata": {
        "id": "H8PJMaX08st9",
        "colab_type": "code",
        "outputId": "461a190b-3399-4121-d7f9-23c8aa0dd730",
        "colab": {
          "base_uri": "https://localhost:8080/",
          "height": 136
        }
      },
      "source": [
        "# importing necessary libraries \n",
        "import nltk\n",
        "nltk.download('punkt')\n",
        "from nltk.stem.lancaster import LancasterStemmer\n",
        "stemmer = LancasterStemmer() # for getting the root of words,stemmer is used\n",
        "\n",
        "import numpy\n",
        "import tflearn\n",
        "import tensorflow\n",
        "import random\n",
        "\n",
        "import json\n",
        "import pickle\n",
        "with open(\"/content/json file/intent.json\") as file:\n",
        "  data = json.load(file)\n",
        "\n",
        "try:\n",
        "  with open(\"data.pickle\",\"rb\") as f:\n",
        "    words,labels,training,output = pickle.load(f)\n",
        "except:\n",
        "  words =[]\n",
        "  labels =[]\n",
        "  docs_x =[]\n",
        "  docs_y =[]\n",
        "# here, we are looping through the intents:\n",
        "  for intent in data[\"intents\"]:\n",
        "    for pattern in intent[\"patterns\"]:\n",
        "      wrds = nltk.word_tokenize(pattern) # tokenizing the words in pattern\n",
        "      words.extend(wrds)\n",
        "      docs_x.append(wrds)\n",
        "      docs_y.append(intent[\"tag\"])\n",
        "\n",
        "      if intent[\"tag\"] not in labels:\n",
        "        labels.append(intent[\"tag\"])\n",
        "\n",
        "  words = [stemmer.stem(w.lower()) for w in words if w != \"?\"]\n",
        "  words = sorted(list(set(words))) # avoiding duplicate words so as\n",
        "                                   # to make our word vocab shorter\n",
        "\n",
        "  labels = sorted(labels)\n",
        "\n",
        "  # now, we are going to train it, but the neural network doesnot accepts \n",
        "  # strings as input\n",
        "  # so we will create a bag of words to convert strings into numeric data.\n",
        "\n",
        "  training=[]\n",
        "  output =[]\n",
        "\n",
        "  out_empty = [ 0 for _ in range(len(labels))]\n",
        "\n",
        "  for x, doc in enumerate(docs_x):\n",
        "    bag=[]\n",
        "    wrds = [stemmer.stem(w.lower()) for w in doc]\n",
        "\n",
        "    for w in words: \n",
        "      if w in wrds:\n",
        "        bag.append(1)  # if the word exist in doc, we will give it 1 otherwise 0\n",
        "      else:\n",
        "        bag.append(0)\n",
        "  \n",
        "    output_row = out_empty[:]\n",
        "    output_row[labels.index(docs_y[x])] = 1\n",
        "\n",
        "    training.append(bag)\n",
        "    output.append(output_row)\n",
        "\n",
        "  # converting it into numpy arrays so to feed them into our model \n",
        "  training = numpy.array(training)                                   \n",
        "  output = numpy.array(output)\n",
        "\n",
        "  with open(\"data.pickle\",\"wb\") as f:\n",
        "    pickle.dump((words,labels,training,output), f)\n",
        "\n",
        "# building our model\n",
        "tensorflow.reset_default_graph()\n",
        "\n",
        "net = tflearn.input_data(shape=[None,len(training[0])])\n",
        "net = tflearn.fully_connected(net,8)\n",
        "net = tflearn.fully_connected(net,8)\n",
        "net = tflearn.fully_connected(net,len(output[0]),activation=\"softmax\")\n",
        "net = tflearn.regression(net)\n",
        "\n",
        "model = tflearn.DNN(net)\n",
        "\n",
        "model.fit(training,output,n_epoch =1000,batch_size = 8 , show_metric = True)\n",
        "model.save(\"model.tflearn\")\n",
        "\n",
        "try:\n",
        "  model.load(\"model.tflearn\")\n",
        "except:\n",
        "  model.fit(training,output,n_epoch = 1000,batch_size=8, show_metric = True)\n",
        "  model.save(\"model.tflearn\")"
      ],
      "execution_count": 3,
      "outputs": [
        {
          "output_type": "stream",
          "text": [
            "Training Step: 3999  | total loss: \u001b[1m\u001b[32m0.22044\u001b[0m\u001b[0m | time: 0.021s\n",
            "| Adam | epoch: 1000 | loss: 0.22044 - acc: 0.9476 -- iter: 24/26\n",
            "Training Step: 4000  | total loss: \u001b[1m\u001b[32m0.21129\u001b[0m\u001b[0m | time: 0.028s\n",
            "| Adam | epoch: 1000 | loss: 0.21129 - acc: 0.9529 -- iter: 26/26\n",
            "--\n",
            "INFO:tensorflow:/content/model.tflearn is not in all_model_checkpoint_paths. Manually adding it.\n",
            "INFO:tensorflow:Restoring parameters from /content/model.tflearn\n"
          ],
          "name": "stdout"
        }
      ]
    },
    {
      "cell_type": "code",
      "metadata": {
        "id": "ythoQXs8DJvn",
        "colab_type": "code",
        "outputId": "2749d65d-8396-4d12-d6b1-2d9733f1abe4",
        "colab": {
          "base_uri": "https://localhost:8080/",
          "height": 221
        }
      },
      "source": [
        "# making predictions\n",
        "def bag_of_words(s,words):\n",
        "  bag = [0 for _ in range(len(words))]\n",
        "\n",
        "  s_words = nltk.word_tokenize(s)\n",
        "  s_words = [stemmer.stem(word.lower()) for word in s_words]\n",
        "\n",
        "  for se in s_words:\n",
        "    for i,w in enumerate(words):\n",
        "      if w == se:\n",
        "        bag[i]=1\n",
        "\n",
        "  return numpy.array(bag)\n",
        "\n",
        "def chat():\n",
        "  print(\"start talking with the bot(type quit to stop)!\")\n",
        "  while True:\n",
        "    inp = input(\"You: \")\n",
        "    if inp.lower()==\"quit\":\n",
        "      break\n",
        "    results = model.predict([bag_of_words(inp,words)])[0]\n",
        "    results_index = numpy.argmax(results)\n",
        "    tag = labels[results_index]\n",
        "\n",
        "    if results[results_index]>0.7:\n",
        "      for tg in data[\"intents\"]:\n",
        "        if tg[\"tag\"]==tag:\n",
        "          responses = tg[\"responses\"]\n",
        "      print(random.choice(responses))\n",
        "    else:\n",
        "      print(\"I didn't get that,try again\")\n",
        "\n",
        "chat()"
      ],
      "execution_count": 5,
      "outputs": [
        {
          "output_type": "stream",
          "text": [
            "start talking with the bot(type quit to stop)!\n",
            "You: hello\n",
            "Good to see you again!\n",
            "You: from where are you\n",
            "My hometown is Ambala cantt\n",
            "You: what is your name\n",
            "You can call me Sadhna.\n",
            "You: what do you like\n",
            "I didn't get that,try again\n",
            "You: what do you like to have\n",
            "Yes, I would like to have Coffee\n",
            "You: quit\n"
          ],
          "name": "stdout"
        }
      ]
    },
    {
      "cell_type": "code",
      "metadata": {
        "id": "DpGHuYh0QA7S",
        "colab_type": "code",
        "colab": {}
      },
      "source": [
        ""
      ],
      "execution_count": 0,
      "outputs": []
    }
  ]
}